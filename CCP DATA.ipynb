{
 "cells": [
  {
   "cell_type": "code",
   "execution_count": 45,
   "metadata": {},
   "outputs": [
    {
     "name": "stdout",
     "output_type": "stream",
     "text": [
      "(7176, 4) (7176,)\n"
     ]
    }
   ],
   "source": [
    "import numpy as np\n",
    "from sklearn.preprocessing import StandardScaler\n",
    "scaler=StandardScaler()\n",
    "train_data=np.loadtxt(\"/Users/additipandey/Downloads/0000000000002419_training_ccpp_x_y_train.csv\", delimiter =\",\")\n",
    "data=scaler.fit_transform(train_data)\n",
    "test_data=np.loadtxt(\"/Users/additipandey/Downloads/0000000000002419_test_ccpp_x_test.csv\", delimiter=\",\")\n",
    "\n"
   ]
  },
  {
   "cell_type": "code",
   "execution_count": 32,
   "metadata": {},
   "outputs": [],
   "source": [
    "def step_gradient(points, lr, m, c):\n",
    "    m_slope=0\n",
    "    c_slope=0\n",
    "    for i in range(len(points)):\n",
    "        x=points[i,:4]\n",
    "        y=points[i,4]\n",
    "        m_slope+=(-2/len(points))*(y-m*x-c)*x\n",
    "        c_slope+=(-2/len(points))*(y-m*x-c)\n",
    "    new_m=m-lr*m_slope\n",
    "    new_c=c-lr*c_slope\n",
    "    return new_m,new_c"
   ]
  },
  {
   "cell_type": "code",
   "execution_count": 15,
   "metadata": {},
   "outputs": [],
   "source": [
    "def gradient(points,lr,num_iter):\n",
    "    m=0\n",
    "    c=0\n",
    "    for i in range(num_iter):\n",
    "        m,c=step_gradient(points,lr,m,c)\n",
    "    return m,c"
   ]
  },
  {
   "cell_type": "code",
   "execution_count": 33,
   "metadata": {},
   "outputs": [],
   "source": [
    "def cost(points,m,c):\n",
    "    total_cost=0\n",
    "    for i in range(len(points)):\n",
    "        x=points[i,:4]\n",
    "        y=points[i,4]\n",
    "        total_cost+=(-2/len(points))*((y-m*x-c)**2)\n",
    "    return total_cost"
   ]
  },
  {
   "cell_type": "code",
   "execution_count": 46,
   "metadata": {},
   "outputs": [
    {
     "name": "stdout",
     "output_type": "stream",
     "text": [
      "(4,) (4,)\n"
     ]
    }
   ],
   "source": [
    "\n",
    "points=data\n",
    "lr=0.001\n",
    "num_iter=1000\n",
    "m,c=gradient(points,lr,num_iter)\n",
    "print(m.shape,c.shape)"
   ]
  },
  {
   "cell_type": "code",
   "execution_count": 57,
   "metadata": {},
   "outputs": [
    {
     "name": "stdout",
     "output_type": "stream",
     "text": [
      "[-0.233679 -0.515114 -1.469295 -1.696756]\n",
      "[[ 0.862848  0.73737   0.332487  0.409094]\n",
      " [ 0.849515  0.963447 -0.044294  0.193098]\n",
      " [-0.799341 -1.233933 -0.583758  0.130382]\n",
      " ...\n",
      " [-0.511569 -0.711203 -0.319014  0.432496]\n",
      " [-0.419348  0.691317  0.054697 -0.189516]\n",
      " [-0.22713  -0.353545  0.438384  0.272664]]\n"
     ]
    },
    {
     "ename": "OSError",
     "evalue": "[Errno 30] Read-only file system: 'predictccp.csv'",
     "output_type": "error",
     "traceback": [
      "\u001b[0;31m---------------------------------------------------------------------------\u001b[0m",
      "\u001b[0;31mOSError\u001b[0m                                   Traceback (most recent call last)",
      "Cell \u001b[0;32mIn[57], line 7\u001b[0m\n\u001b[1;32m      5\u001b[0m y_pred\u001b[39m=\u001b[39mm\u001b[39m*\u001b[39mtest_scaled\u001b[39m+\u001b[39mc\n\u001b[1;32m      6\u001b[0m \u001b[39mprint\u001b[39m(y_pred)\n\u001b[0;32m----> 7\u001b[0m np\u001b[39m.\u001b[39;49msavetxt(\u001b[39m\"\u001b[39;49m\u001b[39mpredictccp.csv\u001b[39;49m\u001b[39m\"\u001b[39;49m, y_pred, delimiter\u001b[39m=\u001b[39;49m\u001b[39m\"\u001b[39;49m\u001b[39m,\u001b[39;49m\u001b[39m\"\u001b[39;49m)\n",
      "File \u001b[0;32m<__array_function__ internals>:180\u001b[0m, in \u001b[0;36msavetxt\u001b[0;34m(*args, **kwargs)\u001b[0m\n",
      "File \u001b[0;32m/Library/Frameworks/Python.framework/Versions/3.10/lib/python3.10/site-packages/numpy/lib/npyio.py:1523\u001b[0m, in \u001b[0;36msavetxt\u001b[0;34m(fname, X, fmt, delimiter, newline, header, footer, comments, encoding)\u001b[0m\n\u001b[1;32m   1520\u001b[0m     fname \u001b[39m=\u001b[39m os_fspath(fname)\n\u001b[1;32m   1521\u001b[0m \u001b[39mif\u001b[39;00m _is_string_like(fname):\n\u001b[1;32m   1522\u001b[0m     \u001b[39m# datasource doesn't support creating a new file ...\u001b[39;00m\n\u001b[0;32m-> 1523\u001b[0m     \u001b[39mopen\u001b[39;49m(fname, \u001b[39m'\u001b[39;49m\u001b[39mwt\u001b[39;49m\u001b[39m'\u001b[39;49m)\u001b[39m.\u001b[39mclose()\n\u001b[1;32m   1524\u001b[0m     fh \u001b[39m=\u001b[39m np\u001b[39m.\u001b[39mlib\u001b[39m.\u001b[39m_datasource\u001b[39m.\u001b[39mopen(fname, \u001b[39m'\u001b[39m\u001b[39mwt\u001b[39m\u001b[39m'\u001b[39m, encoding\u001b[39m=\u001b[39mencoding)\n\u001b[1;32m   1525\u001b[0m     own_fh \u001b[39m=\u001b[39m \u001b[39mTrue\u001b[39;00m\n",
      "\u001b[0;31mOSError\u001b[0m: [Errno 30] Read-only file system: 'predictccp.csv'"
     ]
    }
   ],
   "source": [
    "test_scaled = scaler.fit_transform(test_data)\n",
    "tc=cost(data,m,c)\n",
    "print(tc)\n",
    "np.set_printoptions(precision=6)\n",
    "y_pred=m*test_scaled+c\n",
    "print(y_pred)\n",
    "np.savetxt(\"predictccp.csv\", y_pred, delimiter=\",\")\n"
   ]
  },
  {
   "cell_type": "code",
   "execution_count": 56,
   "metadata": {},
   "outputs": [
    {
     "name": "stdout",
     "output_type": "stream",
     "text": [
      "[ 0.952978  1.064103 -1.117914 ... -0.917045 -0.087876 -0.544652]\n"
     ]
    }
   ],
   "source": [
    "from sklearn.ensemble import GradientBoostingRegressor\n",
    "x = data[:,:data.shape[1]-1]\n",
    "y = data[:,data.shape[1]-1]\n",
    "reg = GradientBoostingRegressor()\n",
    "reg.fit(x,y)\n",
    "y_predict = reg.predict(test_scaled)\n",
    "print(y_predict)\n",
    "# np.savetxt(\"predictedCCP.csv\", y_predict, delimiter=',')"
   ]
  }
 ],
 "metadata": {
  "kernelspec": {
   "display_name": "Python 3",
   "language": "python",
   "name": "python3"
  },
  "language_info": {
   "codemirror_mode": {
    "name": "ipython",
    "version": 3
   },
   "file_extension": ".py",
   "mimetype": "text/x-python",
   "name": "python",
   "nbconvert_exporter": "python",
   "pygments_lexer": "ipython3",
   "version": "3.10.5"
  },
  "orig_nbformat": 4,
  "vscode": {
   "interpreter": {
    "hash": "aee8b7b246df8f9039afb4144a1f6fd8d2ca17a180786b69acc140d282b71a49"
   }
  }
 },
 "nbformat": 4,
 "nbformat_minor": 2
}
